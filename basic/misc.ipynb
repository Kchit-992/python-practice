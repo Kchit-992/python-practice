{
 "cells": [
  {
   "cell_type": "markdown",
   "metadata": {},
   "source": [
    "# Numpy specific computing package"
   ]
  },
  {
   "cell_type": "code",
   "execution_count": 5,
   "metadata": {},
   "outputs": [],
   "source": [
    "import numpy as np\n",
    "import time\n",
    "import math"
   ]
  },
  {
   "cell_type": "markdown",
   "metadata": {},
   "source": [
    "## Vectors \n",
    "- Vectors are ordered arrays of numbers\n",
    "- The elements of a vector are all the same\n",
    "- A vector does not contain both characters and numbers\n",
    "- The number of elements in the array is referred to the dimension or may be referred rank\n",
    "- The vector has n-dimension. \n",
    "- In python, the indexing will run from 0 to n-1"
   ]
  },
  {
   "cell_type": "code",
   "execution_count": null,
   "metadata": {},
   "outputs": [
    {
     "name": "stdout",
     "output_type": "stream",
     "text": [
      "np.zeros(5) : a = [0. 0. 0. 0. 0.], a shape = (5,), a data type = float64\n",
      "np.zeros(4,) : b = [0. 0. 0. 0. 0.], b shape = (5,), b data type = float64\n",
      "np.random.random_sample(5) : c = [0.76790316 0.83367361 0.43256577 0.99124258 0.14135867], c shape = (5,), c data type = float64\n"
     ]
    }
   ],
   "source": [
    "# Can be either a single value for a 1-D or a tuple (n,m,....)\n",
    "a = np.zeros(5)\n",
    "print(f\"np.zeros(5) : a = {a}, a shape = {a.shape}, a data type = {a.dtype}\")\n",
    "\n",
    "b = np.zeros((5,))\n",
    "print(f\"np.zeros(4,) : b = {b}, b shape = {b.shape}, b data type = {b.dtype}\")\n",
    "\n",
    "c = np.random.random_sample(5)\n",
    "print(f\"np.random.random_sample(5) : c = {c}, c shape = {c.shape}, c data type = {c.dtype}\")\n"
   ]
  },
  {
   "cell_type": "code",
   "execution_count": 19,
   "metadata": {},
   "outputs": [
    {
     "name": "stdout",
     "output_type": "stream",
     "text": [
      "np.arange(4.) : d = [0. 1. 2. 3.], d shape = (4,), d data type = float64\n",
      "np.random.rand(4) : e = [0.25606118 0.74977864 0.26591196 0.58632868], e shape = (4,), e data type = float64\n"
     ]
    }
   ],
   "source": [
    "# Fill arrays with value but do not accept shape as input argument\n",
    "d = np.arange(4.)\n",
    "print(f\"np.arange(4.) : d = {d}, d shape = {d.shape}, d data type = {d.dtype}\")\n",
    "\n",
    "e = np.random.rand(4)\n",
    "print(f\"np.random.rand(4) : e = {e}, e shape = {e.shape}, e data type = {e.dtype}\")"
   ]
  },
  {
   "cell_type": "code",
   "execution_count": 21,
   "metadata": {},
   "outputs": [
    {
     "name": "stdout",
     "output_type": "stream",
     "text": [
      "np.array([8,7,6,5,4,3,2]) : f =[8 7 6 5 4 3 2], f shape = (7,), f data type = int64\n",
      "np.array([5.,4,3,2]) : g = [6. 5. 4. 3.], g shape = (4,), g data type = float64\n"
     ]
    }
   ],
   "source": [
    "# create an array \n",
    "f = np.array([8,7,6,5,4,3,2])\n",
    "print(f\"np.array([8,7,6,5,4,3,2]) : f ={f}, f shape = {f.shape}, f data type = {f.dtype}\")\n",
    "\n",
    "g = np.array([6.,5,4,3])\n",
    "print(f\"np.array([5.,4,3,2]) : g = {g}, g shape = {g.shape}, g data type = {g.dtype}\")"
   ]
  },
  {
   "cell_type": "markdown",
   "metadata": {},
   "source": [
    "## Operations on Vectors \n",
    "- Indexing is an element of an array by its position within the array. Numpy starts indexing at 0 \n",
    "- Slicing is to get a subset of elements from an array based on their indices. For example a[2] = 3 is the 3rd element of a vector [5,4,3]"
   ]
  },
  {
   "cell_type": "code",
   "execution_count": 28,
   "metadata": {},
   "outputs": [
    {
     "name": "stdout",
     "output_type": "stream",
     "text": [
      "[0 1 2 3 4 5 6 7 8 9]\n",
      "h[2].shape = ()\n",
      "h[2] = 2\n",
      "h[-1] = 9\n",
      "The error message: index 10 is out of bounds for axis 0 with size 10\n"
     ]
    }
   ],
   "source": [
    "# Indexing\n",
    "# vector indexing operations on 1-D arrays\n",
    "h = np.arange(10)\n",
    "print(h)\n",
    "\n",
    "# access shape of h[2]\n",
    "print(f\"h[2].shape = {h[2].shape}\")\n",
    "\n",
    "# access an element returns scalar \n",
    "print(f\"h[2] = {h[2]}\")\n",
    "\n",
    "# access the last element, negative indexes count from the end \n",
    "print(f\"h[-1] = {h[-1]}\")\n",
    "\n",
    "# indexes must be within the range of the vector ir they will produce an error \n",
    "try:\n",
    "    res = h[10]\n",
    "except Exception as e: \n",
    "    print(f\"The error message: {e}\")"
   ]
  },
  {
   "cell_type": "code",
   "execution_count": 40,
   "metadata": {},
   "outputs": [
    {
     "name": "stdout",
     "output_type": "stream",
     "text": [
      "i = [0 1 2 3 4 5 6 7 8 9]\n",
      "5 consecutive elements: i[1:6:1] = [1 2 3 4 5]\n",
      "3 elements separtated by two: i[1:6:2] = [1 3 5]\n",
      "all elements index 3 and above: i[3:] = [3 4 5 6 7 8 9]\n",
      "all elements below index 3: i[:3] = [0 1 2]\n",
      "all elements: i[:] = [0 1 2 3 4 5 6 7 8 9]\n"
     ]
    }
   ],
   "source": [
    "# Slicing creates an array of indices using a set of 3 values (start:stop:step)\n",
    "i = np.arange(10)\n",
    "print(f\"i = {i}\")\n",
    "\n",
    "# access 5 consecutive elements \n",
    "print(f\"5 consecutive elements: i[1:6:1] = {i[1:6:1]}\")\n",
    "\n",
    "# access 3 elements separated by two\n",
    "print(f\"3 elements separtated by two: i[1:6:2] = {i[1:6:2]}\")\n",
    "\n",
    "# access all elements index 3 and above\n",
    "print(f\"all elements index 3 and above: i[3:] = {i[3:]}\")\n",
    "\n",
    "# access all elements below index 3 \n",
    "print(f\"all elements below index 3: i[:3] = {i[:3]}\")\n",
    "\n",
    "# access all elements \n",
    "print(f\"all elements: i[:] = {i[:]}\")"
   ]
  },
  {
   "cell_type": "code",
   "execution_count": null,
   "metadata": {},
   "outputs": [
    {
     "name": "stdout",
     "output_type": "stream",
     "text": [
      "negate element of m: -m = [-1 -2 -3 -4]\n",
      "sum all elements of m: np.sum(m) = 10\n",
      "average all elements of m: np.mean(m) = 2.5\n",
      "m**2 = [ 1  4  9 16]\n"
     ]
    }
   ],
   "source": [
    "# single vector operations\n",
    "m = np.array([1,2,3,4])\n",
    "\n",
    "# negate element of m \n",
    "print(f\"negate element of m: -m = {-m}\")\n",
    "\n",
    "# sum all elements of m returns a scalar \n",
    "print(f\"sum all elements of m: np.sum(m) = {np.sum(m)}\")\n",
    "\n",
    "# average all elements of m \n",
    "print(f\"average all elements of m: np.mean(m) = {np.mean(m)}\")\n",
    "\n",
    "print(f\"m**2 = {m**2}\")"
   ]
  },
  {
   "cell_type": "code",
   "execution_count": null,
   "metadata": {},
   "outputs": [
    {
     "name": "stdout",
     "output_type": "stream",
     "text": [
      "binary operators work element wise: a + b = [0 0 6 8]\n"
     ]
    }
   ],
   "source": [
    "# Vector vector element-wise operations (element-by-element)\n",
    "a = np.array([1,2,3,4])\n",
    "b = np.array([-1,-2,3,4])\n",
    "print(f\"binary operators work element wise: a + b = {a+b}\")"
   ]
  },
  {
   "cell_type": "code",
   "execution_count": 48,
   "metadata": {},
   "outputs": [
    {
     "name": "stdout",
     "output_type": "stream",
     "text": [
      "The error message is operands could not be broadcast together with shapes (4,) (2,) \n"
     ]
    }
   ],
   "source": [
    "# mismatched vector operation \n",
    "c = np.array([1,2])\n",
    "try:\n",
    "    d = a + c\n",
    "except Exception as e:\n",
    "    print(f\"The error message is {e}\")"
   ]
  },
  {
   "cell_type": "code",
   "execution_count": 50,
   "metadata": {},
   "outputs": [
    {
     "name": "stdout",
     "output_type": "stream",
     "text": [
      "multiply a vector a by 5: 5*a = [ 5 10 15 20]\n"
     ]
    }
   ],
   "source": [
    "# Scalar vector operations \n",
    "# vectors can be scaled by scalar values. A scalar multiplies all the elements of the vector\n",
    "a = np.array([1,2,3,4])\n",
    "\n",
    "print(f\"multiply a vector a by 5: 5*a = {5*a}\")"
   ]
  },
  {
   "cell_type": "markdown",
   "metadata": {},
   "source": [
    "## Vector dot product\n",
    "- the dot product multiplies the values in 2 vectors element-by-element\n",
    "- It requires the dimension of two vectors to be the same\n"
   ]
  },
  {
   "cell_type": "markdown",
   "metadata": {},
   "source": [
    "The function of computing the dot product of two vectors. Given input $a$ and $b$:\n",
    "$$ x = \\sum_{i=0}^{n-1} a_i b_i $$\n",
    "Assume both `a` and `b` are the same shape"
   ]
  },
  {
   "cell_type": "code",
   "execution_count": 51,
   "metadata": {},
   "outputs": [],
   "source": [
    "def my_dot(a,b):\n",
    "    \"\"\"\n",
    "    Compute the dot product of two vectors\n",
    "\n",
    "    Args:\n",
    "        a (ndarray (n,)): input vector\n",
    "        b (ndarray (n,)): input vector with same dimension as a\n",
    "    \n",
    "    Returns:\n",
    "        x (scalar)\n",
    "    \"\"\"\n",
    "    x = 0 \n",
    "    for i in range(a.shape[0]):\n",
    "        x = x + a[i] * b[i]\n",
    "    return x"
   ]
  },
  {
   "cell_type": "code",
   "execution_count": 52,
   "metadata": {},
   "outputs": [
    {
     "name": "stdout",
     "output_type": "stream",
     "text": [
      "The dot product: my_dot(a,b) = 24\n"
     ]
    }
   ],
   "source": [
    "# test 1-D array \n",
    "a = np.array([1,2,3,4])\n",
    "b = np.array([-1,4,3,2])\n",
    "print(f\"The dot product: my_dot(a,b) = {my_dot(a,b)}\")"
   ]
  },
  {
   "cell_type": "code",
   "execution_count": 54,
   "metadata": {},
   "outputs": [
    {
     "name": "stdout",
     "output_type": "stream",
     "text": [
      "numpy 1-D array dot product: np.dot(a,b) = 24, np.dot(a,b).shape = ()\n",
      "numpy 1-D array dot product: np.dot(b,a) = 24, np.dot(b,a).shape = ()\n"
     ]
    }
   ],
   "source": [
    "# using numpy to compute the dot product \n",
    "c =np.dot(a,b)\n",
    "print(f\"numpy 1-D array dot product: np.dot(a,b) = {c}, np.dot(a,b).shape = {c.shape}\")\n",
    "d =np.dot(b,a)\n",
    "print(f\"numpy 1-D array dot product: np.dot(b,a) = {d}, np.dot(b,a).shape = {d.shape}\")"
   ]
  },
  {
   "cell_type": "code",
   "execution_count": 58,
   "metadata": {},
   "outputs": [
    {
     "name": "stdout",
     "output_type": "stream",
     "text": [
      "np.dot(a,b) = 2501072.5817, vectorized duration: 2.8269 ms\n",
      "my_dot(a,b) = 2501072.5817, loop version duriation: 1285.2499 ms\n"
     ]
    }
   ],
   "source": [
    "# using np.dot improve speed memory efficiency\n",
    "np.random.seed(1)\n",
    "# create very large arrays \n",
    "a = np.random.rand(10000000)\n",
    "b = np.random.rand(10000000)\n",
    "\n",
    "# using np.dot(a,b)\n",
    "# create starting time\n",
    "start_time = time.time()\n",
    "# compute the dot product of vector a and b using np.dot()\n",
    "c = np.dot(a,b)\n",
    "# create ending time\n",
    "end_time  = time.time()\n",
    "\n",
    "print(f\"np.dot(a,b) = {c:.4f}, vectorized duration: {1000*(end_time-start_time):.4f} ms\")\n",
    "\n",
    "# using my_dot(a,b)\n",
    "# create starting time\n",
    "start_time = time.time()\n",
    "# compute the dot product of vector a and b using my_dot()\n",
    "d = my_dot(a,b)\n",
    "# create ending time\n",
    "end_time = time.time()\n",
    "\n",
    "print(f\"my_dot(a,b) = {d:.4f}, loop version duriation: {1000*(end_time-start_time):.4f} ms\")"
   ]
  },
  {
   "cell_type": "code",
   "execution_count": null,
   "metadata": {},
   "outputs": [],
   "source": []
  }
 ],
 "metadata": {
  "kernelspec": {
   "display_name": "kc",
   "language": "python",
   "name": "python3"
  },
  "language_info": {
   "codemirror_mode": {
    "name": "ipython",
    "version": 3
   },
   "file_extension": ".py",
   "mimetype": "text/x-python",
   "name": "python",
   "nbconvert_exporter": "python",
   "pygments_lexer": "ipython3",
   "version": "3.12.2"
  }
 },
 "nbformat": 4,
 "nbformat_minor": 2
}
