{
 "cells": [
  {
   "cell_type": "markdown",
   "metadata": {},
   "source": [
    "# Numpy specific computing package"
   ]
  },
  {
   "cell_type": "code",
   "execution_count": 5,
   "metadata": {},
   "outputs": [],
   "source": [
    "import numpy as np\n",
    "import time\n",
    "import math"
   ]
  },
  {
   "cell_type": "markdown",
   "metadata": {},
   "source": [
    "## Vectors \n",
    "- Vectors are ordered arrays of numbers\n",
    "- The elements of a vector are all the same\n",
    "- A vector does not contain both characters and numbers\n",
    "- The number of elements in the array is referred to the dimension or may be referred rank\n",
    "- The vector has n-dimension. \n",
    "- In python, the indexing will run from 0 to n-1"
   ]
  },
  {
   "cell_type": "code",
   "execution_count": null,
   "metadata": {},
   "outputs": [
    {
     "name": "stdout",
     "output_type": "stream",
     "text": [
      "np.zeros(5) : a = [0. 0. 0. 0. 0.], a shape = (5,), a data type = float64\n",
      "np.zeros(4,) : b = [0. 0. 0. 0. 0.], b shape = (5,), b data type = float64\n",
      "np.random.random_sample(5) : c = [0.76790316 0.83367361 0.43256577 0.99124258 0.14135867], c shape = (5,), c data type = float64\n"
     ]
    }
   ],
   "source": [
    "# Can be either a single value for a 1-D or a tuple (n,m,....)\n",
    "a = np.zeros(5)\n",
    "print(f\"np.zeros(5) : a = {a}, a shape = {a.shape}, a data type = {a.dtype}\")\n",
    "\n",
    "b = np.zeros((5,))\n",
    "print(f\"np.zeros(4,) : b = {b}, b shape = {b.shape}, b data type = {b.dtype}\")\n",
    "\n",
    "c = np.random.random_sample(5)\n",
    "print(f\"np.random.random_sample(5) : c = {c}, c shape = {c.shape}, c data type = {c.dtype}\")\n"
   ]
  },
  {
   "cell_type": "code",
   "execution_count": 19,
   "metadata": {},
   "outputs": [
    {
     "name": "stdout",
     "output_type": "stream",
     "text": [
      "np.arange(4.) : d = [0. 1. 2. 3.], d shape = (4,), d data type = float64\n",
      "np.random.rand(4) : e = [0.25606118 0.74977864 0.26591196 0.58632868], e shape = (4,), e data type = float64\n"
     ]
    }
   ],
   "source": [
    "# Fill arrays with value but do not accept shape as input argument\n",
    "d = np.arange(4.)\n",
    "print(f\"np.arange(4.) : d = {d}, d shape = {d.shape}, d data type = {d.dtype}\")\n",
    "\n",
    "e = np.random.rand(4)\n",
    "print(f\"np.random.rand(4) : e = {e}, e shape = {e.shape}, e data type = {e.dtype}\")"
   ]
  },
  {
   "cell_type": "code",
   "execution_count": 21,
   "metadata": {},
   "outputs": [
    {
     "name": "stdout",
     "output_type": "stream",
     "text": [
      "np.array([8,7,6,5,4,3,2]) : f =[8 7 6 5 4 3 2], f shape = (7,), f data type = int64\n",
      "np.array([5.,4,3,2]) : g = [6. 5. 4. 3.], g shape = (4,), g data type = float64\n"
     ]
    }
   ],
   "source": [
    "# create an array \n",
    "f = np.array([8,7,6,5,4,3,2])\n",
    "print(f\"np.array([8,7,6,5,4,3,2]) : f ={f}, f shape = {f.shape}, f data type = {f.dtype}\")\n",
    "\n",
    "g = np.array([6.,5,4,3])\n",
    "print(f\"np.array([5.,4,3,2]) : g = {g}, g shape = {g.shape}, g data type = {g.dtype}\")"
   ]
  },
  {
   "cell_type": "markdown",
   "metadata": {},
   "source": [
    "## Operations on Vectors \n",
    "- Indexing is an element of an array by its position within the array. Numpy starts indexing at 0 \n",
    "- Slicing is to get a subset of elements from an array based on their indices. For example a[2] = 3 is the 3rd element of a vector [5,4,3]"
   ]
  },
  {
   "cell_type": "code",
   "execution_count": 28,
   "metadata": {},
   "outputs": [
    {
     "name": "stdout",
     "output_type": "stream",
     "text": [
      "[0 1 2 3 4 5 6 7 8 9]\n",
      "h[2].shape = ()\n",
      "h[2] = 2\n",
      "h[-1] = 9\n",
      "The error message: index 10 is out of bounds for axis 0 with size 10\n"
     ]
    }
   ],
   "source": [
    "# Indexing\n",
    "# vector indexing operations on 1-D arrays\n",
    "h = np.arange(10)\n",
    "print(h)\n",
    "\n",
    "# access shape of h[2]\n",
    "print(f\"h[2].shape = {h[2].shape}\")\n",
    "\n",
    "# access an element returns scalar \n",
    "print(f\"h[2] = {h[2]}\")\n",
    "\n",
    "# access the last element, negative indexes count from the end \n",
    "print(f\"h[-1] = {h[-1]}\")\n",
    "\n",
    "# indexes must be within the range of the vector ir they will produce an error \n",
    "try:\n",
    "    res = h[10]\n",
    "except Exception as e: \n",
    "    print(f\"The error message: {e}\")"
   ]
  },
  {
   "cell_type": "code",
   "execution_count": 29,
   "metadata": {},
   "outputs": [
    {
     "name": "stdout",
     "output_type": "stream",
     "text": [
      "i = [0 1 2 3 4 5 6 7 8 9]\n"
     ]
    }
   ],
   "source": [
    "# Slicing creates an array of indices using a set of 3 values (start:stop:step)\n",
    "i = np.arange(10)\n",
    "print(f\"i = {i}\")\n"
   ]
  }
 ],
 "metadata": {
  "kernelspec": {
   "display_name": "kc",
   "language": "python",
   "name": "python3"
  },
  "language_info": {
   "codemirror_mode": {
    "name": "ipython",
    "version": 3
   },
   "file_extension": ".py",
   "mimetype": "text/x-python",
   "name": "python",
   "nbconvert_exporter": "python",
   "pygments_lexer": "ipython3",
   "version": "3.12.2"
  }
 },
 "nbformat": 4,
 "nbformat_minor": 2
}
